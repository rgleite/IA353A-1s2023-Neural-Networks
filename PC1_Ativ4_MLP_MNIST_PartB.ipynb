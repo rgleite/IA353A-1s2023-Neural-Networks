{
  "cells": [
    {
      "attachments": {},
      "cell_type": "markdown",
      "metadata": {
        "id": "xMsNyA3WPrER"
      },
      "source": [
        "# **Notebook PC1_Ativ4 (Part B)**\n",
        "# MLP classifier for the MNIST database.\n",
        "## Grid search for the hyperparameters. Code produced by previous students of IA353. Thank you for making Activity 4 still more complete.\n",
        "**Professor:** Fernando J. Von Zuben <br>\n",
        "**Aluno(a):** Ricardo Guimarães Leite - ra 880745 <br>\n"
      ]
    },
    {
      "cell_type": "code",
      "execution_count": null,
      "metadata": {
        "id": "feKIgQlnaT7U"
      },
      "outputs": [],
      "source": [
        "import tensorflow as tf\n",
        "import os\n",
        "import pandas as pd\n",
        "import matplotlib.pyplot as plt\n",
        "mnist = tf.keras.datasets.mnist\n",
        "\n",
        "(x_train, y_train),(x_test, y_test) = mnist.load_data()\n",
        "x_train, x_test = x_train / 255.0, x_test / 255.0"
      ]
    },
    {
      "cell_type": "code",
      "execution_count": null,
      "metadata": {
        "id": "MH_I88sRYMQR"
      },
      "outputs": [],
      "source": [
        "def model_and_evaluate(N_NEURONS=512,N_LAYERS=1,DROPOUT=0.3,EPOCHS=5,\n",
        "                       OPTIMIZER='adam',verbose=1):\n",
        "    model = tf.keras.models.Sequential([\n",
        "          tf.keras.layers.Flatten(),\n",
        "          tf.keras.layers.Dense(N_NEURONS,activation=tf.nn.relu),\n",
        "          tf.keras.layers.Dropout(DROPOUT)])\n",
        "    if N_LAYERS>1:\n",
        "        for i in range(N_LAYERS-1):\n",
        "            model.add(tf.keras.layers.Dense(N_NEURONS,activation=tf.nn.relu))\n",
        "            model.add(tf.keras.layers.Dropout(DROPOUT))\n",
        "    model.add(tf.keras.layers.Dense(10, activation=tf.nn.softmax))\n",
        "    model.compile(optimizer=OPTIMIZER,\n",
        "                loss='sparse_categorical_crossentropy',\n",
        "                metrics=['accuracy'])\n",
        "    model_history = model.fit(x_train, y_train, epochs=EPOCHS,verbose=verbose)\n",
        "    results = model.evaluate(x_test, y_test,verbose=verbose)\n",
        "    if verbose:\n",
        "        model.summary()\n",
        "        # Evaluate the model on the test data using `evaluate`\n",
        "        print(\"Evaluate on test data\")\n",
        "        print(\"test loss, test acc:\", results)\n",
        "    d = dict(n_neurons = N_NEURONS,\n",
        "           n_layers  = N_LAYERS,\n",
        "           optimizer = OPTIMIZER,\n",
        "           dropout   = DROPOUT,\n",
        "           epochs    = EPOCHS,\n",
        "           loss      = results[0],\n",
        "           accuracy  = results[1])\n",
        "    return d"
      ]
    },
    {
      "cell_type": "code",
      "execution_count": null,
      "metadata": {
        "id": "fwjImmahSJV6",
        "scrolled": true
      },
      "outputs": [],
      "source": [
        "rows = []\n",
        "for rep in range(10):\n",
        "    row = model_and_evaluate(verbose=0)\n",
        "    row['rep'] = rep\n",
        "    rows.append(row)\n",
        "    for n_neurons in [256,1024,2048,4096]:\n",
        "        row = model_and_evaluate(N_NEURONS=n_neurons,verbose=0)\n",
        "        row['rep'] = rep\n",
        "        rows.append(row)\n",
        "    for n_layers in [2,3,4]:\n",
        "        row = model_and_evaluate(N_LAYERS=n_layers,verbose=0)\n",
        "        row['rep'] = rep\n",
        "        rows.append(row)  \n",
        "    for dropout in [0,0.1,0.2,0.4,0.5]:\n",
        "        row = model_and_evaluate(DROPOUT=dropout,verbose=0)\n",
        "        row['rep'] = rep\n",
        "        rows.append(row) \n",
        "    for optimizer in ['RMSprop','SGD','Ftrl']:\n",
        "        row = model_and_evaluate(OPTIMIZER=optimizer,verbose=0)\n",
        "        row['rep'] = rep\n",
        "        rows.append(row)\n",
        "    for epoch in [10,20,30]:\n",
        "        row = model_and_evaluate(EPOCHS=epoch,verbose=0)\n",
        "        row['rep'] = rep\n",
        "        rows.append(row)\n",
        "df = pd.DataFrame(rows)\n",
        "df.to_csv('mnist_ativ4_MLP_analysis.csv',index=False)\n",
        "df.head()"
      ]
    },
    {
      "cell_type": "code",
      "execution_count": null,
      "metadata": {
        "id": "KEElqZwZfBYj"
      },
      "outputs": [],
      "source": [
        "df = pd.read_csv('mnist_ativ4_MLP_analysis.csv')\n",
        "df.head()"
      ]
    },
    {
      "cell_type": "code",
      "execution_count": null,
      "metadata": {
        "id": "2bzaGx1TfBYk"
      },
      "outputs": [],
      "source": [
        "n_neurons = [256,512,1024,2048,4096]\n",
        "n_layers  = [1,2,3,4]\n",
        "dropout   = [0,0.1,0.2,0.3,0.4,0.5]\n",
        "optimizer = ['adam','RMSprop','SGD','Ftrl']\n",
        "epoch     = [5,10,20,30]\n",
        "\n",
        "accs = []\n",
        "losss= []\n",
        "for i,nn in enumerate(n_neurons):\n",
        "    c = (df['n_neurons'] == nn) & (df['n_layers'] == n_layers[0]) \n",
        "    c = c & (df['dropout'] == dropout[3]) & (df['optimizer'] == optimizer[0]) \n",
        "    c = c & (df['epochs'] == epoch[0])\n",
        "    acc = df[c]['accuracy']\n",
        "    accs.append(acc)\n",
        "    loss= df[c]['loss']\n",
        "    losss.append(loss)\n",
        "\n",
        "fig,ax=plt.subplots(2,1,figsize=(4,4),dpi=120,sharex=True)\n",
        "ax[0].boxplot(accs,labels=n_neurons)\n",
        "ax[0].set_ylabel('Accuracy')\n",
        "ax[1].boxplot(losss,labels=n_neurons)\n",
        "ax[1].set_ylabel('Loss')\n",
        "ax[1].set_xlabel('Number of artificial neurons')\n",
        "fig.align_ylabels()\n",
        "plt.tight_layout()"
      ]
    },
    {
      "cell_type": "code",
      "execution_count": null,
      "metadata": {
        "id": "BkhSCXP_Urz9"
      },
      "outputs": [],
      "source": [
        "accs = []\n",
        "losss= []\n",
        "for i,nl in enumerate(n_layers):\n",
        "    c = (df['n_neurons'] == 512) & (df['n_layers'] == nl) \n",
        "    c = c & (df['dropout'] == dropout[3]) & (df['optimizer'] == optimizer[0]) \n",
        "    c = c & (df['epochs'] == epoch[0])\n",
        "    acc = df[c]['accuracy']\n",
        "    accs.append(acc)\n",
        "    loss= df[c]['loss']\n",
        "    losss.append(loss)\n",
        "\n",
        "fig,ax=plt.subplots(2,1,figsize=(4,4),dpi=120,sharex=True)\n",
        "ax[0].boxplot(accs,labels=n_layers)\n",
        "ax[0].set_ylabel('Accuracy')\n",
        "ax[1].boxplot(losss,labels=n_layers)\n",
        "ax[1].set_ylabel('Loss')\n",
        "ax[1].set_xlabel('Number of hidden layers')\n",
        "fig.align_ylabels()\n",
        "plt.tight_layout()"
      ]
    },
    {
      "cell_type": "code",
      "execution_count": null,
      "metadata": {
        "id": "uAMG1-7zfBYl"
      },
      "outputs": [],
      "source": [
        "accs = []\n",
        "losss= []\n",
        "for i,do in enumerate(dropout):\n",
        "    c = (df['n_neurons'] == 512) & (df['n_layers'] == 1) \n",
        "    c = c & (df['dropout'] == do) & (df['optimizer'] == optimizer[0]) \n",
        "    c = c & (df['epochs'] == epoch[0])\n",
        "    acc = df[c]['accuracy']\n",
        "    accs.append(acc)\n",
        "    loss= df[c]['loss']\n",
        "    losss.append(loss)\n",
        "\n",
        "fig,ax=plt.subplots(2,1,figsize=(4,4),dpi=120,sharex=True)\n",
        "ax[0].boxplot(accs,labels=dropout)\n",
        "ax[0].set_ylabel('Accuracy')\n",
        "ax[1].boxplot(losss,labels=dropout)\n",
        "ax[1].set_ylabel('Loss')\n",
        "ax[1].set_xlabel('Dropout')\n",
        "fig.align_ylabels()\n",
        "plt.tight_layout()"
      ]
    },
    {
      "cell_type": "code",
      "execution_count": null,
      "metadata": {
        "id": "z5dQue5mfBYl"
      },
      "outputs": [],
      "source": [
        "accs = []\n",
        "losss= []\n",
        "for i,o in enumerate(optimizer):\n",
        "    c = (df['n_neurons'] == 512) & (df['n_layers'] == 1) \n",
        "    c = c & (df['dropout'] == 0.3) & (df['optimizer'] == o) \n",
        "    c = c & (df['epochs'] == epoch[0])\n",
        "    acc = df[c]['accuracy']\n",
        "    accs.append(acc)\n",
        "    loss= df[c]['loss']\n",
        "    losss.append(loss)\n",
        "\n",
        "fig,ax=plt.subplots(2,1,figsize=(4,4),dpi=120,sharex=True)\n",
        "ax[0].boxplot(accs,labels=optimizer)\n",
        "ax[0].set_ylabel('Accuracy')\n",
        "ax[1].boxplot(losss,labels=optimizer)\n",
        "ax[1].set_ylabel('Loss')\n",
        "fig.align_ylabels()\n",
        "plt.tight_layout()"
      ]
    },
    {
      "cell_type": "code",
      "execution_count": null,
      "metadata": {
        "id": "8xJAK6cyfBYl"
      },
      "outputs": [],
      "source": [
        "epoch     = [5,10,20,30]\n",
        "accs = []\n",
        "losss= []\n",
        "for i,e in enumerate(epoch):\n",
        "    c = (df['n_neurons'] == 512) & (df['n_layers'] == 1) \n",
        "    c = c & (df['dropout'] == 0.3) & (df['optimizer'] == 'adam') \n",
        "    c = c & (df['epochs'] == e)\n",
        "    acc = df[c]['accuracy']\n",
        "    accs.append(acc)\n",
        "    loss= df[c]['loss']\n",
        "    losss.append(loss)\n",
        "\n",
        "fig,ax=plt.subplots(2,1,figsize=(4,4),dpi=120,sharex=True)\n",
        "ax[0].boxplot(accs,labels=epoch,showmeans=True,meanline=True)\n",
        "ax[0].set_ylabel('Accuracy')\n",
        "ax[1].boxplot(losss,labels=epoch,showmeans=True,meanline=True)\n",
        "ax[1].set_ylabel('Loss')\n",
        "ax[1].set_xlabel('Epochs')\n",
        "fig.align_ylabels()\n",
        "plt.tight_layout()"
      ]
    },
    {
      "cell_type": "code",
      "execution_count": null,
      "metadata": {
        "id": "W-NuUsLIfBYm"
      },
      "outputs": [],
      "source": [
        "d = model_and_evaluate(N_NEURONS=???,N_LAYERS=???,DROPOUT=???,EPOCHS=???,\n",
        "                       OPTIMIZER='???',verbose=1)"
      ]
    }
  ],
  "metadata": {
    "colab": {
      "provenance": []
    },
    "kernelspec": {
      "display_name": "Python 3",
      "language": "python",
      "name": "python3"
    },
    "language_info": {
      "codemirror_mode": {
        "name": "ipython",
        "version": 3
      },
      "file_extension": ".py",
      "mimetype": "text/x-python",
      "name": "python",
      "nbconvert_exporter": "python",
      "pygments_lexer": "ipython3",
      "version": "3.9.2"
    }
  },
  "nbformat": 4,
  "nbformat_minor": 0
}
