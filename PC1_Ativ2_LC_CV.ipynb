{
  "metadata": {
    "language_info": {
      "codemirror_mode": {
        "name": "ipython",
        "version": 3
      },
      "file_extension": ".py",
      "mimetype": "text/x-python",
      "name": "python",
      "nbconvert_exporter": "python",
      "pygments_lexer": "ipython3",
      "version": "3.8.8"
    },
    "orig_nbformat": 2,
    "kernelspec": {
      "name": "python388jvsc74a57bd02fe6452616a5c56ac366cd71f0310863e24cc0ef48f8e1d866f66e4662847f82",
      "display_name": "Python 3.8.8 64-bit ('test')"
    },
    "metadata": {
      "interpreter": {
        "hash": "2fe6452616a5c56ac366cd71f0310863e24cc0ef48f8e1d866f66e4662847f82"
      }
    },
    "colab": {
      "provenance": []
    }
  },
  "nbformat": 4,
  "nbformat_minor": 0,
  "cells": [
    {
      "cell_type": "markdown",
      "source": [
        "## **Notebook PC1_Ativ2**\n",
        "## Regularized Linear Classifiers for MNIST database.\n",
        "**Professor:** Fernando J. Von Zuben <br>\n",
        "**Aluno(a):**\n"
      ],
      "metadata": {
        "id": "PE89n7YwA5OB"
      }
    },
    {
      "cell_type": "code",
      "execution_count": null,
      "metadata": {
        "id": "MOfS3mVy1su0"
      },
      "outputs": [],
      "source": [
        "from matplotlib import pyplot as plt\n",
        "import numpy as np\n",
        "from keras.datasets import mnist\n",
        "\n",
        "(Xp, y), (Xtp, yt) = mnist.load_data()\n",
        "Xa = Xp.reshape(Xp.shape[0], 784)\n",
        "Xta = Xtp.reshape(Xtp.shape[0], 784)\n",
        "\n",
        "X = Xa / 255.0\n",
        "Xt = Xta / 255.0\n",
        "\n",
        "print(\"Shape of X: \".ljust(10),  X.shape)\n",
        "print(\"Shape of y: \".ljust(10),  y.shape)\n",
        "print(\"Shape of Xt: \".ljust(10),  Xt.shape)\n",
        "print(\"Shape of yt: \".ljust(10),  yt.shape)"
      ]
    },
    {
      "cell_type": "code",
      "source": [
        "from tensorflow.keras.utils import to_categorical\n",
        "\n",
        "yy = to_categorical(y)\n",
        "yyt = to_categorical(yt)\n",
        "sum_along_columns1 = np.sum(yy, axis = 0)\n",
        "print(sum_along_columns1)\n",
        "sum_along_columns2 = np.sum(yyt, axis = 0)\n",
        "print(sum_along_columns2)\n"
      ],
      "metadata": {
        "id": "Yt1jXvDDFDvx"
      },
      "execution_count": null,
      "outputs": []
    },
    {
      "cell_type": "markdown",
      "source": [
        "##**A classifier with ridge regularization**\n"
      ],
      "metadata": {
        "id": "QjXT6iv5XE60"
      }
    },
    {
      "cell_type": "code",
      "execution_count": null,
      "metadata": {
        "id": "W_dbJ39H1su5"
      },
      "outputs": [],
      "source": [
        "from numpy import mean\n",
        "from numpy import std\n",
        "from sklearn.model_selection import cross_val_score\n",
        "from sklearn.model_selection import RepeatedStratifiedKFold\n",
        "from sklearn.linear_model import RidgeClassifier\n",
        "\n",
        "model = RidgeClassifier()\n",
        "# Define the model evaluation procedure\n",
        "cv = RepeatedStratifiedKFold(n_splits=5, n_repeats=3, random_state=1)\n",
        "# Evaluate the model and collect the scores\n",
        "n_scores = cross_val_score(model, X, y, scoring='accuracy', cv=cv, n_jobs=-1)\n",
        "# Report the model performance\n",
        "print('Mean Accuracy: %.3f (%.3f)' % (mean(n_scores), std(n_scores)))"
      ]
    },
    {
      "cell_type": "code",
      "source": [
        "from sklearn.metrics import confusion_matrix\n",
        "\n",
        "model.fit(X,y)\n",
        "print(f\"Performance on the test data: {model.score(Xt,yt)} \\n\")\n",
        "confusion_matrix(model.predict(Xt),yt)"
      ],
      "metadata": {
        "id": "5mu3nnu7G-o6"
      },
      "execution_count": null,
      "outputs": []
    },
    {
      "cell_type": "markdown",
      "source": [
        "##**Another classifier with ridge regularization**"
      ],
      "metadata": {
        "id": "IrE05UUqWvum"
      }
    },
    {
      "cell_type": "code",
      "source": [
        "from sklearn.linear_model import RidgeClassifierCV\n",
        "\n",
        "c_values = [pow(2,d) for d in range(-10, 18, 2)]\n",
        "model1 = RidgeClassifierCV(alphas=c_values)\n",
        "model1.fit(X,y)\n",
        "print(f\"Performance on the test data: {model1.score(Xt,yt)} \\n\")\n",
        "confusion_matrix(model1.predict(Xt),yt)"
      ],
      "metadata": {
        "id": "t8toxXxfIvrz"
      },
      "execution_count": null,
      "outputs": []
    },
    {
      "cell_type": "markdown",
      "source": [
        "##**Visualization tools for unveiling the classification strategy**"
      ],
      "metadata": {
        "id": "vlR18vAw6OVD"
      }
    },
    {
      "cell_type": "code",
      "source": [
        "# Only for the MNIST dataset\n",
        "# weights = model.coef_.copy() # Run this command for the RidgeClassifier\n",
        "weights = model1.coef_.copy() # Run this command for the RidgeClassifierCV\n",
        "plt.figure(figsize=(10,5))\n",
        "for i in range(10):\n",
        "    plt.subplot(2, 5, i+1)\n",
        "    weight = weights[i,:].reshape([28,28])\n",
        "    plt.title(f'Class {i}')\n",
        "    plt.imshow(weight, cmap='viridis')\n",
        "    frame1 = plt.gca()\n",
        "    frame1.axes.get_xaxis().set_visible(False)\n",
        "    frame1.axes.get_yaxis().set_visible(False)"
      ],
      "metadata": {
        "id": "le8lU-a_JGDv"
      },
      "execution_count": null,
      "outputs": []
    },
    {
      "cell_type": "code",
      "source": [
        "# Only for the MNIST dataset\n",
        "# weights = model.coef_.copy() # Run this command for the RidgeClassifier\n",
        "weights = model1.coef_.copy() # Run this command for the RidgeClassifierCV\n",
        "scale = np.abs(weights).max()\n",
        "plt.figure(figsize=(10,5))\n",
        "for i in range(10):\n",
        "    plt.subplot(2, 5, i+1)\n",
        "    weight = weights[i,:].reshape([28,28])\n",
        "    plt.title(f'Class {i}')\n",
        "    plt.imshow(weight, cmap=plt.cm.seismic, vmin=-scale/2, vmax=scale/2, interpolation='bilinear')\n",
        "    frame1 = plt.gca()\n",
        "    frame1.axes.get_xaxis().set_visible(False)\n",
        "    frame1.axes.get_yaxis().set_visible(False)"
      ],
      "metadata": {
        "id": "Rjdfq4gERCDE"
      },
      "execution_count": null,
      "outputs": []
    }
  ]
}